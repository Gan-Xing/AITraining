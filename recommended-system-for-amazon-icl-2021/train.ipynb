{
 "cells": [
  {
   "cell_type": "code",
   "execution_count": 16,
   "metadata": {},
   "outputs": [
    {
     "name": "stderr",
     "output_type": "stream",
     "text": [
      "No path specified. Models will be saved in: \"AutogluonModels/ag-20240320_025157\"\n",
      "Presets specified: ['good_quality']\n",
      "Stack configuration (auto_stack=True): num_stack_levels=1, num_bag_folds=8, num_bag_sets=1\n",
      "Dynamic stacking is enabled (dynamic_stacking=True). AutoGluon will try to determine whether the input data is affected by stacked overfitting and enable or disable stacking as a consequence.\n",
      "Detecting stacked overfitting by sub-fitting AutoGluon on the input data. That is, copies of AutoGluon will be sub-fit on subset(s) of the data. Then, the holdout validation data is used to detect stacked overfitting.\n",
      "Sub-fit(s) time limit is: 3600 seconds.\n",
      "Starting holdout-based sub-fit for dynamic stacking. Context path is: AutogluonModels/ag-20240320_025157/ds_sub_fit/sub_fit_ho.\n",
      "Running the sub-fit in a ray process to avoid memory leakage.\n"
     ]
    }
   ],
   "source": [
    "import pandas as pd\n",
    "from autogluon.tabular import TabularPredictor\n",
    "\n",
    "# 加载数据\n",
    "train_data = pd.read_csv('train.csv')\n",
    "test_data = pd.read_csv('test.csv') # 如果这行代码仅用于加载测试数据，而不是立即使用，可以暂时注释掉\n",
    "\n",
    "# 定义预测目标列名\n",
    "label = 'Rating'\n",
    "\n",
    "# 删除目标列中的空值行\n",
    "train_data = train_data.dropna(subset=[label])\n",
    "\n",
    "# 指定使用MLP模型\n",
    "hyperparameters = {\n",
    "    'NN_TORCH': {},  # 使用PyTorch神经网络模型，并使用默认配置\n",
    "}\n",
    "\n",
    "# AutoGluon训练，仅使用MLP模型\n",
    "predictor = TabularPredictor(label=label, eval_metric='root_mean_squared_error', problem_type='regression').fit(\n",
    "    train_data,\n",
    "    presets='good_quality',\n",
    "    hyperparameters=hyperparameters\n",
    ")\n"
   ]
  },
  {
   "cell_type": "code",
   "execution_count": null,
   "metadata": {},
   "outputs": [],
   "source": [
    "# 预测测试集\n",
    "predictions = predictor.predict(test_data)\n",
    "\n",
    "# 把预测结果作为新列添加到测试数据的副本中\n",
    "test_data_with_predictions = test_data.copy()\n",
    "test_data_with_predictions[label] = predictions\n",
    "\n",
    "# 创建Keys列，直接将userId和productId组合成一个元组\n",
    "test_data_with_predictions['Keys'] = list(zip(test_data_with_predictions['userId'], test_data_with_predictions['productId']))\n",
    "\n",
    "# 仅保留Keys和预测结果列\n",
    "submission = test_data_with_predictions[['Keys', label]]\n",
    "\n",
    "# 保存预测结果到CSV文件，以符合提交格式\n",
    "submission.to_csv('submission.csv', index=False)"
   ]
  }
 ],
 "metadata": {
  "kernelspec": {
   "display_name": "ai",
   "language": "python",
   "name": "python3"
  },
  "language_info": {
   "codemirror_mode": {
    "name": "ipython",
    "version": 3
   },
   "file_extension": ".py",
   "mimetype": "text/x-python",
   "name": "python",
   "nbconvert_exporter": "python",
   "pygments_lexer": "ipython3",
   "version": "3.11.8"
  }
 },
 "nbformat": 4,
 "nbformat_minor": 2
}
